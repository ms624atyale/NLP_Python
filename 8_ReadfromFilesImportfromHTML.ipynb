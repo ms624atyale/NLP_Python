{
  "nbformat": 4,
  "nbformat_minor": 0,
  "metadata": {
    "colab": {
      "provenance": [],
      "authorship_tag": "ABX9TyMPRbRN2IZc4LnSUJevkPIK",
      "include_colab_link": true
    },
    "kernelspec": {
      "name": "python3",
      "display_name": "Python 3"
    },
    "language_info": {
      "name": "python"
    }
  },
  "cells": [
    {
      "cell_type": "markdown",
      "metadata": {
        "id": "view-in-github",
        "colab_type": "text"
      },
      "source": [
        "<a href=\"https://colab.research.google.com/github/ms624atyale/NLP_Python/blob/main/8_ReadfromFilesImportfromHTML.ipynb\" target=\"_parent\"><img src=\"https://colab.research.google.com/assets/colab-badge.svg\" alt=\"Open In Colab\"/></a>"
      ]
    },
    {
      "cell_type": "markdown",
      "source": [
        "## 🐹🍏  <font color = 'red'> **Step-by-Step to get your text file ready for further analysis as UTF-8 (Unicode Transformation Format)**</font>\n",
        "\n",
        "**On your machine**\n",
        "* **Mac**\n",
        "  - [If you want to copy sentences excerpted from Crime and Punishment by Fyodor Dostovesky, click here!](https://raw.githubusercontent.com/ms624atyale/Data_Misc/main/Crime_Punishment_ChOne_Part.txt)\n",
        "  - Copy content from your **ms word** or html and paste it to **TextEdit**.\n",
        "\n",
        "\n",
        "      1. Go to [Format] -> [Make Plain Text]</font>\n",
        "      \n",
        "      2. Hit [Save] -> Choose a directory -> Type in a file name under \"Save as\" -> Check Plain Text Encoding: Unicode (UTF-8)\n",
        "      (If no extension is provided, use .txt)\n",
        "\n",
        "      3. In the term \"UTF-8,\" the number 8 refers to the number of bits used to encode characters in the UTF-8 character\n",
        "      encoding scheme. UTF-8 is a variable-width encoding that can use 8, 16, or 24 bits to represent characters,\n",
        "      but the most commonly used range is the 8-bit representation. This means that characters in UTF-8 can be encoded\n",
        "      using 1 to 4 bytes, with the most common characters (those in the ASCII character set) represented using\n",
        "      a single byte (8 bits). UTF-8은 가변 폭 인코딩으로, 문자를 나타내는 데 8, 16 또는 24비트를 사용할 수 있지만, 가장 일반적으로\n",
        "      사용되는 범위는 8비트 표현입니다. 이는 UTF-8에서 문자를 1바이트에서 4바이트까지 인코딩할 수 있음을 의미하며, 가장 일반적인 문자(ASCII 문자 집합에 속하는 문자)는\n",
        "      1바이트(8비트)로 표현됩니다.\n",
        ">\n",
        "* **MS Word**\n",
        "  * [If you want to copy sentences excerpted from Crime and Punishment by Fyodor Dostovesky, click here!](https://raw.githubusercontent.com/ms624atyale/Data_Misc/main/Crime_Punishment_ChOne_Part.txt)\n",
        "  * Write something on **MS Word** or copy content from html document and paste it to **MS Word**.\n",
        "  \n",
        "        1.Go to [File] -> [Save As...] Choose [File Format] -> [Plain Text(.txt)]\n",
        "        \n",
        "        2. Hit [Save] -> [Other Encoding] -> Unicode(UTF-8) -> End lines with CR-Only (by default) or CR/LF\n",
        "        -> Document direction: [Left-to-right] -> Hit [OK]\n",
        ">\n",
        "\n",
        "* **PC**\n",
        "  * [If you want to copy sentences excerpted from Crime and Punishment by Fyodor Dostovesky, click here!](https://raw.githubusercontent.com/ms624atyale/Data_Misc/main/Crime_Punishment_ChOne_Part.txt)\n",
        "  * Copy content from your **ms word** or html and paste it to **WordPad 메모장**.\n",
        "  \n",
        "        1.Go to [File] -> [Save As...] Choose [Text Document]\n",
        "        \n",
        "        2. Hit [Save] -> Choose a directory -> Type in a file name under \"Save as\" -> Check Plain Text Encoding:\n",
        "        Unicode (UTF-8) (If no extension is provided, use .txt)\n",
        "\n",
        "        3. If you are given two options, UTF-8a and UTF-8b, choose UTF-8b (aka, UTF-8 without BOM),\n",
        "        which is the standard UTF-8. It is a safer choice for maximum compatibility, especially in\n",
        "        cross-platform applications.\n",
        ">\n",
        "**<font color = 'red'>💣 [Warning]** </font>\n",
        "* Do not select Rich Text Format (RTF), which is the default.\n",
        "\n",
        "* Note: Some programs give you multiple options for plain text. If this is the case in your program, make sure that you do _NOT_ select *Unicode (UTF-16).\n",
        "\n",
        ">\n",
        "\n",
        "**On Github**\n",
        "1. Create a data repository on Github (e.g., Temp_Data).\n",
        "2. Upload your text file on a data repository.\n",
        "> [Add file] -> [Upload files] -> \"Drag files here to add them to your repository or Choose your files.\n",
        "3. Hit \"Commit changes\"\n",
        "\n",
        "### 🐼🍎  <font color = 'green'> **Now you are ready to use codelines below. Good luck!**\n",
        ">\n",
        "## 📙 **Making a directory & uploading files on Colab**\n",
        "* Colab 작업 디렉토리에서 폴더를 생성하여 다른 곳에서 다운로드 받은 단/복수의 파일을 옮겨 넣는 방법\n",
        "  * 코랩에 기본으로 깔려 있는 sample_data 에 커서를 대면 활성화되면서 우측에 세로 점 3 개가 나타난다. 거기를 클릭하면 선택사항 -> [new folder]를 클릭한다.\n",
        "  * [new folder]를 drag해서 [sample_data] 쪽으로 끌어오면, 해당 폴더가 이동하여 폴더 레벨이 높아진다.\n",
        "  * [new folder]에 커서를 대면 활성화되면서 우측에 세로 점 3 개가 나타난다. 클릭해서 폴더명을 새이름으로 바꾼다. e.g., [Uename Folder] -> [exercise]\n",
        "  * 해당 폴더에 cursor를 접근시키면 폴더가 활성화되면서 우측에 세로 점 3 개가 나타난다. Upload 클릭해서 본인 컴퓨터에 다운로드 받은 복수의 파일을 모두 업로드 한다."
      ],
      "metadata": {
        "id": "BGoDGSBvX4Fc"
      }
    },
    {
      "cell_type": "markdown",
      "source": [
        "3. Read text I"
      ],
      "metadata": {
        "id": "ZYs_YuRIYWec"
      }
    },
    {
      "cell_type": "code",
      "execution_count": null,
      "metadata": {
        "id": "wJxfBxtQX2D0"
      },
      "outputs": [],
      "source": [
        "#@markdown ### 🐹 <font color = 'red'>**Student Activity 2** ⤵️\n",
        "\n",
        "#@markdown 👀🐾 **Read and close a text file from the Colab directory.**\n",
        "\n",
        "file=open('/content/sample_data/Crime_Punishment_Sample.txt','rt')\n",
        "\n",
        "txt = file.read()\n",
        "print(txt)\n",
        "file.close()"
      ]
    },
    {
      "cell_type": "markdown",
      "source": [
        "3. Read text II"
      ],
      "metadata": {
        "id": "NYAdDE5PYXkY"
      }
    },
    {
      "cell_type": "code",
      "source": [
        "#@markdown ### 🐹 <font color = 'brown'>**Student Activity 3** ⤵️\n",
        "\n",
        "#@markdown 👀🐾 **Read the content of the url of your choice.**\n",
        "#@markdown **e.g., url with .txt**\n",
        "\n",
        "import urllib.request\n",
        "url = \"https://raw.githubusercontent.com/ms624atyale/NLP_2024/refs/heads/main/Sample_ClassActivity/Crime_Punishment_Sample.txt\"\n",
        "response = urllib.request.urlopen(url)\n",
        "content= response.read().decode('utf-8')\n",
        "print(content)"
      ],
      "metadata": {
        "id": "CjoDQFzrYYc-"
      },
      "execution_count": null,
      "outputs": []
    },
    {
      "cell_type": "code",
      "source": [
        "#@markdown 🐹🐾 **Print text with \\n (lines)**\n",
        "#>\n",
        "\n",
        "from urllib.request import urlopen\n",
        "\n",
        "url = \"https://raw.githubusercontent.com/ms624atyale/NLP_2024/refs/heads/main/Sample_ClassActivity/Crime_Punishment_Sample.txt\"\n",
        "\n",
        "with urlopen(url) as f:\n",
        "  content =f.read().decode()\n",
        "  with open('crime_punish_copied.html','wt') as cf:\n",
        "    cf.write(content)\n",
        "\n",
        "file = open(\"/content/crime_punish_copied.html\", \"rt\")"
      ],
      "metadata": {
        "id": "07d_8-O8YexE"
      },
      "execution_count": null,
      "outputs": []
    },
    {
      "cell_type": "code",
      "source": [
        "#@markdown 🐹🐾 **Delete lines (i.e., 줄 생략해서 Space로 대체하기)**\n",
        "#>\n",
        "#@markdown File name: Data_Misc Rep. on ms624atyale ▶️ crime_punish_ch_one.txt\n",
        "from urllib.request import urlopen\n",
        "\n",
        "url = \"https://raw.githubusercontent.com/ms624atyale/NLP_2024/refs/heads/main/Sample_ClassActivity/Crime_Punishment_Sample.txt\"\n",
        "\n",
        "with urlopen(url) as f:\n",
        "  doc =f.read().decode()\n",
        "  with open('crime_punish_copied.html','wt') as cf:\n",
        "    cf.write(doc)\n",
        "\n",
        "file = open(\"/content/crime_punish_copied.html\", \"rt\")\n",
        "file.read().replace(\"\\n\",\" \")"
      ],
      "metadata": {
        "id": "dTP8hV0HYiNG"
      },
      "execution_count": null,
      "outputs": []
    },
    {
      "cell_type": "code",
      "source": [
        "💣 💊 Caution:\n",
        "\n",
        "If you try to clone the whole repository again, you will get an error message unless you delete all files and their empty folder.\n",
        "\n",
        "The error messages goes;⤵️\n",
        "\n",
        "fatal: destination path 'NLP_2024' already exists and is not an empty directory."
      ],
      "metadata": {
        "id": "Orhl8zUtYl8f"
      },
      "execution_count": null,
      "outputs": []
    },
    {
      "cell_type": "code",
      "source": [
        "! git clone https://github.com/ms624atyale/NLP_2024"
      ],
      "metadata": {
        "id": "2K1H9diCYqn5"
      },
      "execution_count": null,
      "outputs": []
    },
    {
      "cell_type": "markdown",
      "source": [
        "#🐥🐥 **direct text input with triple single quotes or triple double quotes***"
      ],
      "metadata": {
        "id": "Cfh_VLT0YpBV"
      }
    },
    {
      "cell_type": "code",
      "source": [
        "txt = \"\"\"\n",
        "Alice was beginning to get very tired of sitting by her sister on the\n",
        "bank, and of having nothing to do: once or twice she had peeped into\n",
        "the book her sister was reading, but it had no pictures or\n",
        "conversations in it, “and what is the use of a book,” thought Alice\n",
        "“without pictures or conversations?”\n",
        "\n",
        "So she was considering in her own mind (as well as she could, for the\n",
        "hot day made her feel very sleepy and stupid), whether the pleasure of\n",
        "making a daisy-chain would be worth the trouble of getting up and\n",
        "picking the daisies, when suddenly a White Rabbit with pink eyes ran\n",
        "close by her.\n",
        "\n",
        "There was nothing so very remarkable in that; nor did Alice think it\n",
        "so _very_ much out of the way to hear the Rabbit say to itself, “Oh\n",
        "dear! Oh dear! I shall be late!” (when she thought it over afterwards,\n",
        "it occurred to her that she ought to have wondered at this, but at the\n",
        "time it all seemed quite natural); but when the Rabbit actually took a\n",
        "watch out of its waistcoat-pocket, and looked at it, and then hurried\n",
        "on, Alice started to her feet, for it flashed across her mind that she\n",
        "had never before seen a rabbit with either a waistcoat-pocket, or a\n",
        "watch to take out of it, and burning with curiosity, she ran across the\n",
        "field after it, and fortunately was just in time to see it pop down a\n",
        "large rabbit-hole under the hedge.\n",
        "\"\"\"\n",
        "\n",
        "print(txt)\n",
        "print('\\n')\n",
        "\n",
        "test = '''\n",
        "Alice was beginning to get very tired of sitting by her sister on the\n",
        "bank, and of having nothing to do: once or twice she had peeped into\n",
        "the book her sister was reading, but it had no pictures or\n",
        "conversations in it, “and what is the use of a book,” thought Alice\n",
        "“without pictures or conversations?”\n",
        "\n",
        "So she was considering in her own mind (as well as she could, for the\n",
        "hot day made her feel very sleepy and stupid), whether the pleasure of\n",
        "making a daisy-chain would be worth the trouble of getting up and\n",
        "picking the daisies, when suddenly a White Rabbit with pink eyes ran\n",
        "close by her.\n",
        "\n",
        "There was nothing so very remarkable in that; nor did Alice think it\n",
        "so _very_ much out of the way to hear the Rabbit say to itself, “Oh\n",
        "dear! Oh dear! I shall be late!” (when she thought it over afterwards,\n",
        "it occurred to her that she ought to have wondered at this, but at the\n",
        "time it all seemed quite natural); but when the Rabbit actually took a\n",
        "watch out of its waistcoat-pocket, and looked at it, and then hurried\n",
        "on, Alice started to her feet, for it flashed across her mind that she\n",
        "had never before seen a rabbit with either a waistcoat-pocket, or a\n",
        "watch to take out of it, and burning with curiosity, she ran across the\n",
        "field after it, and fortunately was just in time to see it pop down a\n",
        "large rabbit-hole under the hedge.\n",
        "'''\n",
        "print(test)\n"
      ],
      "metadata": {
        "id": "Jmtzpe8qYvaf"
      },
      "execution_count": null,
      "outputs": []
    }
  ]
}